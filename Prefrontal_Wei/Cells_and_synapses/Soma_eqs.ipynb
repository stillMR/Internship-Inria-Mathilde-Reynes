{
 "cells": [
  {
   "cell_type": "markdown",
   "metadata": {},
   "source": [
    "## Required packages"
   ]
  },
  {
   "cell_type": "code",
   "execution_count": 1,
   "metadata": {},
   "outputs": [
    {
     "name": "stderr",
     "output_type": "stream",
     "text": [
      "INFO       Cache size for target \"cython\": 3311 MB.\n",
      "You can call \"clear_cache('cython')\" to delete all files from the cache or manually delete files in the \"C:\\Users\\Mathilde\\.cython\\brian_extensions\" directory. [brian2]\n"
     ]
    }
   ],
   "source": [
    "from brian2 import *"
   ]
  },
  {
   "cell_type": "markdown",
   "metadata": {},
   "source": [
    "## Global parameters"
   ]
  },
  {
   "cell_type": "code",
   "execution_count": 2,
   "metadata": {},
   "outputs": [],
   "source": [
    "#Area\n",
    "s_soma = 10**-6*cm**2\n",
    "\n",
    "#Ion-specific conductances per unit of surface\n",
    "# g_k = 200*msiemens*cm**-2\n",
    "\n",
    "#Time constants\n",
    "tau_m_nap = 0.1991*ms\n",
    "\n",
    "#Ion-specific reversal potential\n",
    "E_na = 50*mV\n",
    "E_k = -90*mV\n",
    "\n",
    "#Other constants \n",
    "Qt = pow(2.3,((36-23)/10))\n",
    "Tad = pow(2.3,((36-23)/10))\n",
    "Phi_m = pow(2.3,((36-23)/10))\n",
    "\n",
    "#somatic and dendritic compartments\n",
    "R = 10 * Mohm\n",
    "g_ds = 1 / (R * s_soma)"
   ]
  },
  {
   "cell_type": "markdown",
   "metadata": {},
   "source": [
    "## Equations"
   ]
  },
  {
   "cell_type": "code",
   "execution_count": 3,
   "metadata": {},
   "outputs": [],
   "source": [
    "Soma_eqs = '''\n",
    "\n",
    "    v = -68*mV*init_timestep + truev*(1-init_timestep) : volt\n",
    "    init_timestep = init_timedarray(t) : 1\n",
    "    \n",
    "    truev = (vgap + (R * s_soma) * g2) / (1 + (R * s_soma) * g1) : volt    \n",
    "                            \n",
    "    g1 = g_na *(m_na ** 3) * h_na * Phi_m + g_k * n_k * Tad + g_nap *  m_nap : siemens * meter**-2\n",
    "    g2 = g_na *(m_na ** 3) * h_na * Phi_m * E_na + g_k * n_k * Tad * E_k + g_nap * m_nap * E_na + Iext : amp*meter**-2\n",
    "   \n",
    "    I_na = Phi_m * g_na * (m_na ** 3) * h_na * (v - E_na) : amp * meter**-2\n",
    "        dm_na/dt = -(m_na - m_nainf) / tau_m_na : 1\n",
    "        dh_na/dt = -(h_na - h_nainf) / tau_h_na : 1\n",
    "        alpham_na = (0.182/ms * (v + 25*mV)/mV / (1 - exp(-(v + 25*mV)/9/mV))) * int(abs((v-10*mV)/(-35*mV)) > 1e-6) + (0.182/ms * 9) * int(abs((v-10*mV)/(-35*mV)) < 1e-6)  : Hz\n",
    "        betam_na = (-0.124/ms * (v + 25*mV)/mV / (1 - exp((v + 25*mV)/9/mV))) * int(abs((-v+10*mV)/(35*mV)) > 1e-6) + (0.124/ms * 9) * int(abs((-v+10*mV)/(35*mV)) < 1e-6)  : Hz\n",
    "        alphah_na = (0.024/ms * (v + 40*mV)/mV / (1 - exp(-(v + 40*mV)/5/mV))) * int(abs((v-10*mV)/(-50*mV)) > 1e-6) + (0.024/ms * 5) * int(abs((v-10*mV)/(-50*mV)) < 1e-6)  : Hz\n",
    "        betah_na = (-0.0091/ms * (v + 65*mV)/mV / (1 - exp((v + 65*mV)/5/mV))) * int(abs((-v+10*mV)/(75*mV)) > 1e-6) + (0.0091/ms * 5) * int(abs((-v+10*mV)/(75*mV)) < 1e-6)  : Hz\n",
    "        h_nainf = 1 / (1 + exp((v + 55*mV)/6.2/mV)) : 1\n",
    "        tau_h_na = (1 / (alphah_na + betah_na)) / Qt : second   \n",
    "        m_nainf = alpham_na / (alpham_na + betam_na) : 1\n",
    "        tau_m_na = (1 / (alpham_na + betam_na)) / Qt : second\n",
    "        \n",
    "    I_nap = g_nap * m_nap * (v - E_na) : amp * meter**-2 \n",
    "        dm_nap/dt = -(m_nap -  m_napinf)/tau_m_nap : 1\n",
    "        m_napinf = 0.02 / (1 + exp(-(v + 42*mV)/5/mV)) : 1 \n",
    "    \n",
    "    I_k = Tad * g_k * n_k * (v - E_k) : amp * meter**-2\n",
    "        dn_k/dt = -(n_k - n_kinf) / tau_n_k : 1\n",
    "        alphan_k = (0.02/mV) * (v - 25*mV) / (1 - exp(-(v - 25*mV)/(9*mV))) : 1\n",
    "        betan_k = (-0.002/mV) * (v - 25*mV) / (1 - exp((v - 25*mV)/(9*mV))) : 1\n",
    "        n_kinf = alphan_k / (alphan_k + betan_k) : 1\n",
    "        tau_n_k = (1*msecond / (alphan_k  + betan_k)) / Qt : second\n",
    "        \n",
    "    Iext : amp * meter**-2\n",
    "        \n",
    "    vgap : volt\n",
    "     \n",
    "    g_na : siemens * meter**-2\n",
    "    g_k : siemens * meter**-2\n",
    "    g_nap : siemens * meter**-2\n",
    "    \n",
    "    x : meter\n",
    "    \n",
    "    t_last_spike_PY : second\n",
    "    \n",
    "    mean_rate_PY = (2/(1 + exp(-(t-t_last_spike_PY)/(50*ms)))-1)/250*kHz : Hz\n",
    "    \n",
    "    mean_rate_IN = (2/(1 + exp(-(t-t_last_spike_PY)/(50*ms)))-1)/250*kHz : Hz\n",
    "    \n",
    "    mean_rate_inter = (2/(1 + exp(-(t-t_last_spike_PY)/(80*ms)))-1)/250*kHz : Hz\n",
    "    \n",
    "        \n",
    "    '''"
   ]
  },
  {
   "cell_type": "raw",
   "metadata": {},
   "source": [
    "close('all')\n",
    "prefs.codegen.target = \"numpy\"\n",
    "\n",
    "defaultclock.dt = 0.02*ms\n",
    "\n",
    "#parameters initialization\n",
    "PY_soma = NeuronGroup(2,Soma_eqs,method='rk4',threshold='v>0*mV',refractory=3*ms)\n",
    "PY_soma.h_na = 0.95\n",
    "PY_soma.m_na = 0.05\n",
    "PY_soma.m_nap = 0.00\n",
    "PY_soma.n_k = 0.05\n",
    "PY_soma.g_na = 3000*msiemens*cm**-2\n",
    "PY_soma.g_nap = 15*msiemens*cm**-2\n",
    "PY_soma.g_k = 200*msiemens*cm**-2\n",
    "\n",
    "#recording\n",
    "V1 = StateMonitor(PY_soma,('v','h_na','m_na','m_nap','n_k','tau_m_na','tau_h_na','tau_n_k','g1','g2','Iext','alpham_na','betam_na','alphah_na','betah_na','alphan_k','betan_k'),record=True)\n",
    "\n",
    "runtime = 225*ms\n",
    "num_samples = int(runtime/defaultclock.dt)\n",
    "init_arr = zeros(num_samples)\n",
    "init_arr[0]=1\n",
    "init_timedarray = TimedArray(init_arr, dt=defaultclock.dt)\n",
    "\n",
    "PY_soma.Iext = 0*pA*meter**-2\n",
    "run(50*ms)\n",
    "store('initial')\n",
    "PY_soma.Iext = 20*mA*cm**-2\n",
    "run(200*ms)\n",
    "PY_soma.Iext = 0*pA*meter**-2\n",
    "run(15*ms)"
   ]
  },
  {
   "cell_type": "raw",
   "metadata": {},
   "source": [
    "# %matplotlib widget\n",
    "fig,ax = subplots(4,1, sharex = True)\n",
    "ax[0].plot(V1.t/ms, V1.m_na[0], label='m_na')\n",
    "ax[0].plot(V1.t/ms, V1.h_na[0], label='h_na')\n",
    "ax[0].plot(V1.t/ms, V1.n_k[0], label='n_k')\n",
    "ax[0].plot(V1.t/ms, V1.m_nap[0], label='m_nap')\n",
    "ax[0].legend(loc='upper right')\n",
    "ax[0].set_ylabel ('Activation')\n",
    "ax[1].plot(V1.t/ms, V1.v[0]/mV, label='v')\n",
    "ax[1].legend(loc='upper right')\n",
    "ax[1].set_ylabel ('Voltage (mV)')\n",
    "ax[2].plot(V1.t/ms, V1.alpham_na[0], label='alpham_na')\n",
    "ax[2].plot(V1.t/ms, V1.alphah_na[0], label='alphah_na')\n",
    "ax[2].plot(V1.t/ms, V1.betam_na[0], label='betam_na')\n",
    "ax[2].plot(V1.t/ms, V1.betah_na[0], label='betah_na')\n",
    "ax[2].plot(V1.t/ms, V1.alphan_k[0], label='alphan_k')\n",
    "ax[2].plot(V1.t/ms, V1.betan_k[0], label='betan_k')\n",
    "ax[2].legend()\n",
    "ax[3].plot(V1.t/ms, V1.Iext[0]/pA, label='Iext')\n",
    "ax[3].legend()\n",
    "ax[3].set_ylabel ('Current (pA)')\n",
    "ax[3].set_xlabel ('Time (ms)')"
   ]
  }
 ],
 "metadata": {
  "kernelspec": {
   "display_name": "Python 3",
   "language": "python",
   "name": "python3"
  },
  "language_info": {
   "codemirror_mode": {
    "name": "ipython",
    "version": 3
   },
   "file_extension": ".py",
   "mimetype": "text/x-python",
   "name": "python",
   "nbconvert_exporter": "python",
   "pygments_lexer": "ipython3",
   "version": "3.7.4"
  }
 },
 "nbformat": 4,
 "nbformat_minor": 5
}
