{
 "cells": [
  {
   "cell_type": "markdown",
   "id": "b9e016f5",
   "metadata": {},
   "source": [
    "## Required packages"
   ]
  },
  {
   "cell_type": "code",
   "execution_count": 2,
   "id": "a45743d8",
   "metadata": {},
   "outputs": [],
   "source": [
    "from brian2 import *\n",
    "import numpy as np"
   ]
  },
  {
   "cell_type": "markdown",
   "id": "62105058",
   "metadata": {},
   "source": [
    "## Global parameters "
   ]
  },
  {
   "cell_type": "code",
   "execution_count": 3,
   "id": "eeab470e",
   "metadata": {},
   "outputs": [],
   "source": [
    "#Membrane capacitance per 2unit of surface\n",
    "Cm_RE = 1*ufarad/cm**2\n",
    "\n",
    "#Conductances\n",
    "g_kl_RE = 0.005*msiemens*cm**-2\n",
    "g_na_RE = 100*msiemens*cm**-2\n",
    "g_t = 2.3*msiemens*cm**-2\n",
    "g_l_RE = 0.05*msiemens*cm**-2\n",
    "g_k_RE = 10*msiemens*cm**-2\n",
    "g_t = 2.3*msiemens*cm**-2\n",
    "\n",
    "#Reversal potentials\n",
    "E_kl = -95*mV\n",
    "E_l_TC = -70*mV\n",
    "E_l_RE = -77*mV\n",
    "E_na = 50*mV\n",
    "E_k = -95*mV\n",
    "E_ca0 = 1000*8.31441*(273.15 + 36)/(2*96489)*mV #13.31*mV\n",
    "\n",
    "#Calcium parameters\n",
    "tau_CA_RE = 5*ms\n",
    "A_RE = 5.1819E-5*(mM*cm**2)/(ms*uA)\n",
    "CA_inf = 2.4E-4*mM #2.4E-4*mM\n",
    "CA_0 = 2*mM\n",
    "\n",
    "#Temperature-dependent variables \n",
    "T = 36\n",
    "Qm_RE = 5**((T-24)/10)\n",
    "Qh_RE = 3**((T-24)/10)\n",
    "Qt = 2.9529\n",
    "Q = 2.3\n",
    "Qhyp = pow(3,((T-36)/10))\n",
    "\n",
    "#Parameters to match modelDB\n",
    "Vtr = -50*mV\n",
    "VtrK = -50*mV"
   ]
  },
  {
   "cell_type": "markdown",
   "id": "87bdcd61",
   "metadata": {},
   "source": [
    "## Equations"
   ]
  },
  {
   "cell_type": "code",
   "execution_count": 5,
   "id": "7e63fa6b",
   "metadata": {},
   "outputs": [],
   "source": [
    "RE_eqs = '''\n",
    "\n",
    "    dv/dt = (- I_kl - I_na - I_k - I_t - I_l - Isyn_RE + Iext + Idummy) * (1/Cm_RE) : volt\n",
    "    v2 = v - Vtr : volt\n",
    "    v2K = v - VtrK : volt\n",
    "    \n",
    "    \n",
    "    I_kl = g_kl_RE * (v - E_kl) : amp * meter**-2\n",
    "    \n",
    "    \n",
    "    I_l = g_l_RE * (v - E_l_RE) : amp * meter**-2\n",
    "\n",
    "\n",
    "    I_na = g_na_RE * (m_na ** 3) * h_na * (v - E_na) : amp * meter**-2\n",
    "        dm_na/dt = Qt*(alpham_na*(1-m_na)-betam_na*m_na) : 1\n",
    "        dh_na/dt = Qt*(alphah_na*(1-h_na)-betah_na*h_na) : 1\n",
    "        \n",
    "        alpham_na = 0.32/ms * (13*mV - v2)/mV / (exp((13*mV - v2)/4/mV) - 1) : Hz\n",
    "        betam_na = 0.28/ms * (v2 - 40*mV)/mV / (exp((v2 - 40*mV)/5/mV) - 1) : Hz\n",
    "        \n",
    "        alphah_na = 0.128 * exp((17*mV - v2)/18/mV)/ms : Hz\n",
    "        betah_na = 4/(exp((40*mV - v2)/5/mV + 1))/ms  : Hz\n",
    "\n",
    "\n",
    "    I_k = g_k_RE * (n_k ** 4) * (v - E_k) : amp * meter**-2 \n",
    "        dn_k/dt = Qhyp*(alphan_k*(1-n_k)-betan_k*n_k) : 1\n",
    "        \n",
    "        alphan_k = 0.032/ms * (15*mV - v2K)/mV / (exp((15*mV - v2K)/5/mV) - 1) : Hz\n",
    "        betan_k = 0.5/ms * exp((10*mV - v2K)/40/mV) : Hz\n",
    "\n",
    "\n",
    "    I_t = g_t * (m_t ** 2) * h_t * (v - E_ca) : amp * meter**-2\n",
    "        dm_t/dt = -(m_t - m_tinf) / tau_m_t : 1\n",
    "        dh_t/dt = -(h_t - h_tinf) / tau_h_t : 1\n",
    "        \n",
    "        tau_m_t = (3*ms + 1*ms/(exp((v + 27*mV)/10/mV) + exp(-(v + 102*mV)/15/mV))) / Qm_RE : second\n",
    "        m_tinf = 1 / (1 + exp(-(v + 52*mV)/7.4/mV)) : 1\n",
    "        \n",
    "        tau_h_t = (85*ms + 1*ms/(exp((v + 48*mV)/4/mV) + exp(-(v + 407*mV)/50/mV))) / Qh_RE : second\n",
    "        h_tinf = 1 / (1 + exp((v + 80*mV)/5/mV)) : 1\n",
    "        \n",
    "        drive = -A_RE * I_t : katal * meter**-3\n",
    "        dCA_i_RE/dt = (drive + (CA_inf - CA_i_RE)/tau_CA_RE) * int(drive > 0*katal*meter**-3) + (0*katal*meter**-3 + (CA_inf - CA_i_RE)/tau_CA_RE) * int(drive < 0*katal*meter**-3) : mM \n",
    "        ratio = CA_0/CA_i_RE : 1\n",
    "        E_ca = E_ca0 * log(ratio) : volt\n",
    "        \n",
    "    \n",
    "    Isyn_RE = IsynGABAA_RE_RE + IsynAMPA_TC_RE + IsynAMPA_PY_RE_layer_VI + IsynAMPA_PY_RE_layer_V : amp * meter**-2 \n",
    "        IsynGABAA_RE_RE : amp * meter**-2\n",
    "        IsynAMPA_TC_RE : amp * meter**-2\n",
    "        IsynAMPA_PY_RE_layer_VI :  amp * meter**-2 \n",
    "        IsynAMPA_PY_RE_layer_V :  amp * meter**-2\n",
    "    \n",
    "    \n",
    "    Iext : amp * meter**-2\n",
    "    \n",
    "    \n",
    "    x : meter\n",
    "    \n",
    "    \n",
    "    Idummy = IEPSPs_L_VI_RETCo + IEPSPs_L_V_RETCo + IEPSPs_TC_RE : amp * meter**-2\n",
    "        IEPSPs_L_VI_RETCo : amp * meter**-2\n",
    "        IEPSPs_L_V_RETCo : amp * meter**-2\n",
    "        IEPSPs_TC_RE : amp * meter**-2\n",
    "        \n",
    "\n",
    "    '''\n"
   ]
  },
  {
   "cell_type": "markdown",
   "id": "edee086a",
   "metadata": {},
   "source": [
    "## Plotting results"
   ]
  },
  {
   "cell_type": "raw",
   "id": "7138fba6",
   "metadata": {},
   "source": [
    "prefs.codegen.target = \"cython\"\n",
    "defaultclock.dt = 0.02*ms\n",
    "    \n",
    "#Parameters initialization\n",
    "RE = NeuronGroup(2,RE_eqs,method='exponential_euler',threshold='v>0*mV',refractory=3*ms)\n",
    "RE.v = -70*mV\n",
    "RE.m_na = 0.05\n",
    "RE.h_na = 0.95\n",
    "RE.m_t = 0.01\n",
    "RE.h_t = 0.01\n",
    "RE.n_k = 0.05\n",
    "RE.CA_i_RE = CA_inf\n",
    "    \n",
    "#Recording\n",
    "V1 = StateMonitor(RE,('v','drive','ratio','m_na','h_na','n_k','Iext','CA_i_RE','I_k','I_kl','I_l','I_na','I_t','m_t','h_t','E_ca','m_tinf','h_tinf','tau_h_t','tau_m_t'),record=True)\n",
    "    \n",
    "#Test\n",
    "RE.Iext = 0*pA\n",
    "run(100*ms)\n",
    "store('initial')\n",
    "RE.Iext = 0*pA\n",
    "run(200*ms)\n",
    "RE.Iext = 0*nA\n",
    "run(500*ms)#visualize"
   ]
  },
  {
   "cell_type": "raw",
   "id": "a41ea8b0",
   "metadata": {},
   "source": [
    "#visualize\n",
    "%matplotlib widget\n",
    "fig,ax = subplots(6,1, sharex = True)\n",
    "ax[0].plot(V1.t/ms, V1.m_t[0], label='m_t')\n",
    "ax[0].plot(V1.t/ms, V1.h_t[0], label='h_t')\n",
    "ax[0].plot(V1.t/ms, V1.n_k[0], label='n_k')\n",
    "ax[0].legend(loc='upper left')\n",
    "ax[0].set_ylabel ('Activation')\n",
    "ax[1].plot(V1.t/ms, V1.v[0]/mV, label='v')\n",
    "ax[1].legend()\n",
    "ax[1].set_ylabel ('Voltage (mV)')\n",
    "ax[1].set_title('Membrane potential',fontsize=10)\n",
    "ax[2].plot(V1.t/ms, V1.Iext[0]/pA, label='Iext')\n",
    "ax[2].legend(loc='upper left')\n",
    "ax[2].set_ylabel ('Current (pA)')\n",
    "ax[2].set_title('External current applied',fontsize=10)\n",
    "ax[3].plot(V1.t/ms, V1.CA_i_RE[0]/uM)\n",
    "ax[3].set_ylabel ('Concentration (mM)')\n",
    "ax[3].set_title('Calcium concentration',fontsize=10)\n",
    "ax[4].plot(V1.t/ms, V1.E_ca[0]/mV)\n",
    "ax[4].set_title('Calcium reversal potential',fontsize=10)\n",
    "ax[4].set_ylabel ('Voltage (mV)')\n",
    "ax[5].plot(V1.t/ms, V1.m_tinf[0], label='m_tinf')\n",
    "ax[5].plot(V1.t/ms, V1.h_tinf[0], label='h_tinf')\n",
    "ax[5].set_xlabel ('Time (ms)')\n",
    "ax[5].legend()\n",
    ";"
   ]
  },
  {
   "cell_type": "raw",
   "id": "f0f11c6d",
   "metadata": {},
   "source": [
    "figure()\n",
    "plot(V1.t/ms, V1.I_l[0]/nA, label='I_l')\n",
    "plot(V1.t/ms, V1.I_kl[0]/nA, label='I_kl')\n",
    "plot(V1.t/ms, V1.I_t[0]/nA, label='I_t')\n",
    "#plot(V1.t/ms, V1.I_na[0]/nA, label='I_na')\n",
    "#plot(V1.t/ms, V1.I_k[0]/nA, label='I_k')\n",
    "legend()"
   ]
  }
 ],
 "metadata": {
  "kernelspec": {
   "display_name": "Python 3 (ipykernel)",
   "language": "python",
   "name": "python3"
  },
  "language_info": {
   "codemirror_mode": {
    "name": "ipython",
    "version": 3
   },
   "file_extension": ".py",
   "mimetype": "text/x-python",
   "name": "python",
   "nbconvert_exporter": "python",
   "pygments_lexer": "ipython3",
   "version": "3.9.13"
  }
 },
 "nbformat": 4,
 "nbformat_minor": 5
}
